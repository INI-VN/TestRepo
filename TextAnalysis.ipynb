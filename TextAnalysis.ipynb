{
  "metadata": {
    "kernelspec": {
      "name": "python",
      "display_name": "Python (Pyodide)",
      "language": "python"
    },
    "language_info": {
      "codemirror_mode": {
        "name": "python",
        "version": 3
      },
      "file_extension": ".py",
      "mimetype": "text/x-python",
      "name": "python",
      "nbconvert_exporter": "python",
      "pygments_lexer": "ipython3",
      "version": "3.8"
    }
  },
  "nbformat_minor": 5,
  "nbformat": 4,
  "cells": [
    {
      "id": "22b27ece-ad25-4249-9637-daf7208b4a42",
      "cell_type": "code",
      "source": "class TextAnalyzer(object):\n    def __init__(self, text):\n        formatted = text.replace('!', ' ').replace('.', ' ').replace('?', ' ').replace(',', ' ')\n        FmtText = formatted.lower()\n        self.FmtText = FmtText\n\n    def freqAll(self):\n        splitted = []\n        splitted = self.FmtText.split(' ')\n        dict = {}\n        for word in set(splitted):\n            dict[word] = splitted.count(word)\n        return dict\n\n    def freqOf(self, pick):\n        splitted1 = []\n        splitted1 = self.FmtText.split(' ')\n        if pick in set(splitted1):\n            dict = splitted1.count(pick)\n            print(f'The count of {pick} in the text is:', dict)\n        else:\n            print(f'{pick} is not in the text')",
      "metadata": {
        "trusted": true
      },
      "outputs": [],
      "execution_count": 1
    },
    {
      "id": "32b41992-3fbf-43b9-96d8-8be544318e9b",
      "cell_type": "code",
      "source": "givenstring = \"Lorem ipsum dolor! diam amet, consetetur Lorem magna. sed diam nonumy eirmod tempor. diam et labore? et diam magna. et diam amet.\"\n\nanalyzed = TextAnalyzer(givenstring)",
      "metadata": {
        "trusted": true
      },
      "outputs": [],
      "execution_count": 2
    },
    {
      "id": "93690c3e-39cd-4a9e-9122-8b1252e1f69b",
      "cell_type": "code",
      "source": "print (analyzed.FmtText)",
      "metadata": {
        "trusted": true
      },
      "outputs": [
        {
          "name": "stdout",
          "output_type": "stream",
          "text": "lorem ipsum dolor  diam amet  consetetur lorem magna  sed diam nonumy eirmod tempor  diam et labore  et diam magna  et diam amet \n"
        }
      ],
      "execution_count": 3
    },
    {
      "id": "acf4ce97-d3ac-4157-b9ef-a8ad2f2ff5f6",
      "cell_type": "code",
      "source": "analyzed.freqAll()",
      "metadata": {
        "trusted": true
      },
      "outputs": [
        {
          "execution_count": 4,
          "output_type": "execute_result",
          "data": {
            "text/plain": "{'': 7,\n 'labore': 1,\n 'et': 3,\n 'ipsum': 1,\n 'magna': 2,\n 'nonumy': 1,\n 'diam': 5,\n 'sed': 1,\n 'lorem': 2,\n 'amet': 2,\n 'eirmod': 1,\n 'dolor': 1,\n 'tempor': 1,\n 'consetetur': 1}"
          },
          "metadata": {}
        }
      ],
      "execution_count": 4
    },
    {
      "id": "d5c90a2a-1aa9-4bcd-8d89-9ef62d9230e9",
      "cell_type": "code",
      "source": "analyzed.freqOf('diam')",
      "metadata": {
        "trusted": true
      },
      "outputs": [
        {
          "name": "stdout",
          "output_type": "stream",
          "text": "The count of diam in the text is: 5\n"
        }
      ],
      "execution_count": 5
    },
    {
      "id": "e7737b51-b01a-437c-9d85-3a3f1effe1ac",
      "cell_type": "code",
      "source": "analyzed.freqOf('note')",
      "metadata": {
        "trusted": true
      },
      "outputs": [
        {
          "name": "stdout",
          "output_type": "stream",
          "text": "note is not in the text\n"
        }
      ],
      "execution_count": 6
    },
    {
      "id": "6a9974d0-6c01-4393-9ec5-3e1e47298e44",
      "cell_type": "code",
      "source": "",
      "metadata": {
        "trusted": true
      },
      "outputs": [],
      "execution_count": null
    }
  ]
}