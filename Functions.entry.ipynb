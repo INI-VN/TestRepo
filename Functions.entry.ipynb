{
 "cells": [
  {
   "cell_type": "code",
   "execution_count": 3,
   "id": "27d8a29c-b9a6-49c0-bcd9-00cb21d2d29a",
   "metadata": {},
   "outputs": [],
   "source": [
    "def add(a):\n",
    "    \"\"\"\n",
    "    add 1 to a\n",
    "    \"\"\"\n",
    "    b = a + 1\n",
    "    print(a, \"if you add one\", b)\n",
    "    return(b)"
   ]
  },
  {
   "cell_type": "code",
   "execution_count": 5,
   "id": "ee40e184-289a-4ece-9d1b-46a549410e87",
   "metadata": {},
   "outputs": [
    {
     "name": "stdout",
     "output_type": "stream",
     "text": [
      "Help on function add in module __main__:\n",
      "\n",
      "add(a)\n",
      "    add 1 to a\n",
      "\n"
     ]
    }
   ],
   "source": [
    "help(add)"
   ]
  },
  {
   "cell_type": "code",
   "execution_count": 7,
   "id": "1de78d5e-6002-45e6-8d1a-0ffc7fd71530",
   "metadata": {},
   "outputs": [
    {
     "name": "stdout",
     "output_type": "stream",
     "text": [
      "1 if you add one 2\n"
     ]
    },
    {
     "data": {
      "text/plain": [
       "2"
      ]
     },
     "execution_count": 7,
     "metadata": {},
     "output_type": "execute_result"
    }
   ],
   "source": [
    "add(1)"
   ]
  },
  {
   "cell_type": "code",
   "execution_count": 9,
   "id": "c70d6103-1a53-4e62-9bf3-2618bfd57a5d",
   "metadata": {},
   "outputs": [
    {
     "name": "stdout",
     "output_type": "stream",
     "text": [
      "2 if you add one 3\n"
     ]
    },
    {
     "data": {
      "text/plain": [
       "3"
      ]
     },
     "execution_count": 9,
     "metadata": {},
     "output_type": "execute_result"
    }
   ],
   "source": [
    "add(2)"
   ]
  },
  {
   "cell_type": "code",
   "execution_count": 13,
   "id": "d462fcce-9cf2-494a-8e79-c03f59505941",
   "metadata": {},
   "outputs": [
    {
     "name": "stdout",
     "output_type": "stream",
     "text": [
      "24\n"
     ]
    }
   ],
   "source": [
    "def Multi(a, b):\n",
    "    c = a*b\n",
    "    return(c)\n",
    "    print('This is not printed')\n",
    "\n",
    "result = Multi(12, 2)\n",
    "print(result)"
   ]
  },
  {
   "cell_type": "code",
   "execution_count": 15,
   "id": "cb1330dc-c376-4b4c-addb-c88023514bfa",
   "metadata": {},
   "outputs": [
    {
     "data": {
      "text/plain": [
       "6"
      ]
     },
     "execution_count": 15,
     "metadata": {},
     "output_type": "execute_result"
    }
   ],
   "source": [
    "Multi(2, 3)"
   ]
  },
  {
   "cell_type": "code",
   "execution_count": 17,
   "id": "2cd37a3e-1d43-4d58-8a53-490ea236e8a0",
   "metadata": {},
   "outputs": [
    {
     "data": {
      "text/plain": [
       "31.400000000000002"
      ]
     },
     "execution_count": 17,
     "metadata": {},
     "output_type": "execute_result"
    }
   ],
   "source": [
    "Multi(10.0, 3.14)"
   ]
  },
  {
   "cell_type": "code",
   "execution_count": 20,
   "id": "8daba837-a8a3-4d53-8c45-7eb0a496939e",
   "metadata": {},
   "outputs": [
    {
     "data": {
      "text/plain": [
       "'The BodyguardThe Bodyguard'"
      ]
     },
     "execution_count": 20,
     "metadata": {},
     "output_type": "execute_result"
    }
   ],
   "source": [
    "Multi(2, \"The Bodyguard\")"
   ]
  },
  {
   "cell_type": "code",
   "execution_count": 26,
   "id": "b8ae525f-3938-4882-a5f2-f7d348fe6dbf",
   "metadata": {},
   "outputs": [],
   "source": [
    "def square(a):\n",
    "    #Local variable b\n",
    "    b = 1\n",
    "    c = a*a+b\n",
    "    print(a, \"if you square +1\", c)\n",
    "    return(c)"
   ]
  },
  {
   "cell_type": "code",
   "execution_count": 28,
   "id": "3def2a80-2ca4-43e9-876d-4c7ac89c8e48",
   "metadata": {},
   "outputs": [
    {
     "name": "stdout",
     "output_type": "stream",
     "text": [
      "2 if you square +1 5\n"
     ]
    },
    {
     "data": {
      "text/plain": [
       "5"
      ]
     },
     "execution_count": 28,
     "metadata": {},
     "output_type": "execute_result"
    }
   ],
   "source": [
    "square(2)"
   ]
  },
  {
   "cell_type": "code",
   "execution_count": 30,
   "id": "03c66a0c-d300-447b-93a3-5436430c0ff4",
   "metadata": {},
   "outputs": [
    {
     "name": "stdout",
     "output_type": "stream",
     "text": [
      "3 if you square +1 10\n"
     ]
    },
    {
     "data": {
      "text/plain": [
       "10"
      ]
     },
     "execution_count": 30,
     "metadata": {},
     "output_type": "execute_result"
    }
   ],
   "source": [
    "x = 3\n",
    "y = square(x)\n",
    "y"
   ]
  },
  {
   "cell_type": "code",
   "execution_count": 32,
   "id": "d3bba1ab-0182-45a6-9168-6858d400d97e",
   "metadata": {},
   "outputs": [],
   "source": [
    "def MJ():\n",
    "    print('The Bodyguard')\n",
    "\n",
    "def MJ1():\n",
    "    print('The Bodyguard')\n",
    "    return(None)"
   ]
  },
  {
   "cell_type": "code",
   "execution_count": 34,
   "id": "17f302a3-3ca5-44e2-9f06-b4654b655e89",
   "metadata": {},
   "outputs": [
    {
     "name": "stdout",
     "output_type": "stream",
     "text": [
      "The Bodyguard\n"
     ]
    }
   ],
   "source": [
    "MJ()"
   ]
  },
  {
   "cell_type": "code",
   "execution_count": 38,
   "id": "5835d089-d4ea-4d84-81f8-d05b4a3cfa51",
   "metadata": {},
   "outputs": [
    {
     "name": "stdout",
     "output_type": "stream",
     "text": [
      "The Bodyguard\n"
     ]
    }
   ],
   "source": [
    "MJ1()"
   ]
  },
  {
   "cell_type": "code",
   "execution_count": 40,
   "id": "59fe4d03-8c53-4725-a52a-fc6f58d36c92",
   "metadata": {},
   "outputs": [
    {
     "name": "stdout",
     "output_type": "stream",
     "text": [
      "The Bodyguard\n",
      "None\n"
     ]
    }
   ],
   "source": [
    "print(MJ())"
   ]
  },
  {
   "cell_type": "code",
   "execution_count": 42,
   "id": "1f8c7c41-fed3-45ac-bd7c-c9e52ea08536",
   "metadata": {},
   "outputs": [
    {
     "name": "stdout",
     "output_type": "stream",
     "text": [
      "The Bodyguard\n",
      "None\n"
     ]
    }
   ],
   "source": [
    "print(MJ1())"
   ]
  },
  {
   "cell_type": "code",
   "execution_count": 44,
   "id": "b638dcc7-271c-41de-ae26-c904da2ced19",
   "metadata": {},
   "outputs": [],
   "source": [
    "def con(a, b):\n",
    "    return(a+b)"
   ]
  },
  {
   "cell_type": "code",
   "execution_count": 48,
   "id": "0b870541-0e4d-4faa-869d-14d2a50458a5",
   "metadata": {},
   "outputs": [
    {
     "data": {
      "text/plain": [
       "'Thisis'"
      ]
     },
     "execution_count": 48,
     "metadata": {},
     "output_type": "execute_result"
    }
   ],
   "source": [
    "con(\"This\", \"is\")"
   ]
  },
  {
   "cell_type": "code",
   "execution_count": 50,
   "id": "70486f66-b9b4-45d9-bdce-499b1615eff3",
   "metadata": {},
   "outputs": [
    {
     "data": {
      "text/plain": [
       "5"
      ]
     },
     "execution_count": 50,
     "metadata": {},
     "output_type": "execute_result"
    }
   ],
   "source": [
    "a1 = 4\n",
    "b1 = 5\n",
    "c1 = a1 + b1 + 2 * a1 * b1 - 1\n",
    "if(c1 < 0):\n",
    "    c1 = 0\n",
    "else:\n",
    "    c1 = 5\n",
    "c1"
   ]
  },
  {
   "cell_type": "code",
   "execution_count": 52,
   "id": "20fbd5ff-7269-4978-a96e-ea9e54416a9f",
   "metadata": {},
   "outputs": [
    {
     "data": {
      "text/plain": [
       "0"
      ]
     },
     "execution_count": 52,
     "metadata": {},
     "output_type": "execute_result"
    }
   ],
   "source": [
    "a2 = 0\n",
    "b2 = 0\n",
    "c2 = a2 + b2 + 2 * a2 * b2 - 1\n",
    "if(c2 < 0):\n",
    "    c2 = 0\n",
    "else:\n",
    "    c2 = 5\n",
    "c2"
   ]
  },
  {
   "cell_type": "code",
   "execution_count": 54,
   "id": "42fad21f-805d-4ffc-9f90-8e7330fddd8f",
   "metadata": {},
   "outputs": [],
   "source": [
    "def Equation(a, b):\n",
    "    c = a + b + 2 * a * b - 1\n",
    "    if (c < 0):\n",
    "        c = 0\n",
    "    else:\n",
    "        c = 5\n",
    "    return(c)"
   ]
  },
  {
   "cell_type": "code",
   "execution_count": 56,
   "id": "f0fb22a8-14b2-4524-9e98-651050fd7c66",
   "metadata": {},
   "outputs": [
    {
     "data": {
      "text/plain": [
       "5"
      ]
     },
     "execution_count": 56,
     "metadata": {},
     "output_type": "execute_result"
    }
   ],
   "source": [
    "a1 = 4\n",
    "b1 = 5\n",
    "c1 = Equation(a1, b1)\n",
    "c1"
   ]
  },
  {
   "cell_type": "code",
   "execution_count": 58,
   "id": "3ffef200-66ed-4733-a4d5-f94f3067aa08",
   "metadata": {},
   "outputs": [
    {
     "data": {
      "text/plain": [
       "0"
      ]
     },
     "execution_count": 58,
     "metadata": {},
     "output_type": "execute_result"
    }
   ],
   "source": [
    "a1 = 0\n",
    "b1 = 0\n",
    "c1 = Equation(a1, b1)\n",
    "c1"
   ]
  },
  {
   "cell_type": "code",
   "execution_count": 60,
   "id": "686af9c4-487f-4db8-873a-c671117face9",
   "metadata": {},
   "outputs": [
    {
     "name": "stdout",
     "output_type": "stream",
     "text": [
      "[10.0, 8.5, 9.5, 7.0, 7.0, 9.5, 9.0, 9.5]\n"
     ]
    }
   ],
   "source": [
    "album_ratings = [10.0, 8.5, 9.5, 7.0, 7.0, 9.5, 9.0, 9.5] \n",
    "print(album_ratings)"
   ]
  },
  {
   "cell_type": "code",
   "execution_count": 62,
   "id": "091583af-a6df-4eca-b890-a6c928632c1c",
   "metadata": {},
   "outputs": [
    {
     "data": {
      "text/plain": [
       "70.0"
      ]
     },
     "execution_count": 62,
     "metadata": {},
     "output_type": "execute_result"
    }
   ],
   "source": [
    "sum(album_ratings)"
   ]
  },
  {
   "cell_type": "code",
   "execution_count": 64,
   "id": "350e754a-0821-4ad8-bac0-23939d2026bc",
   "metadata": {},
   "outputs": [
    {
     "data": {
      "text/plain": [
       "8"
      ]
     },
     "execution_count": 64,
     "metadata": {},
     "output_type": "execute_result"
    }
   ],
   "source": [
    "len(album_ratings)"
   ]
  },
  {
   "cell_type": "code",
   "execution_count": 66,
   "id": "fd91359a-be05-419c-8a0e-a07217c5f68b",
   "metadata": {},
   "outputs": [
    {
     "name": "stdout",
     "output_type": "stream",
     "text": [
      "The BodyGuard 1980\n",
      "Oldie\n"
     ]
    }
   ],
   "source": [
    "def type_of_album(album, year_released):\n",
    "    \n",
    "    print(album, year_released)\n",
    "    if year_released > 1980:\n",
    "        return \"Modern\"\n",
    "    else:\n",
    "        return \"Oldie\"\n",
    "    \n",
    "x = type_of_album(\"The BodyGuard\", 1980)\n",
    "print(x)"
   ]
  },
  {
   "cell_type": "code",
   "execution_count": 68,
   "id": "995e63ef-9da3-4e81-b5df-59bda6cfd976",
   "metadata": {},
   "outputs": [],
   "source": [
    "def PrintList(the_list):\n",
    "    for element in the_list:\n",
    "        print(element)"
   ]
  },
  {
   "cell_type": "code",
   "execution_count": 70,
   "id": "55b04974-2f36-4e66-96ad-938922dfa4bc",
   "metadata": {},
   "outputs": [
    {
     "name": "stdout",
     "output_type": "stream",
     "text": [
      "1\n",
      "1\n",
      "the man\n",
      "abc\n"
     ]
    }
   ],
   "source": [
    "PrintList(['1', 1, 'the man', \"abc\"])"
   ]
  },
  {
   "cell_type": "code",
   "execution_count": 4,
   "id": "e2d61e0e-e568-4ef7-8428-77764cebf01d",
   "metadata": {},
   "outputs": [
    {
     "name": "stdout",
     "output_type": "stream",
     "text": [
      "No of arguments: 3\n",
      "Horesefeather\n",
      "Adonis\n",
      "Bone\n",
      "No of arguments: 4\n",
      "Sidecar\n",
      "Long Island\n",
      "Mudslide\n",
      "Carriage\n"
     ]
    }
   ],
   "source": []
  },
  {
   "cell_type": "code",
   "execution_count": 6,
   "id": "4d363ba7-ba1e-496e-9651-c3ab7bbf163e",
   "metadata": {},
   "outputs": [
    {
     "name": "stdout",
     "output_type": "stream",
     "text": [
      "Country:Canada\n",
      "Province:Ontario\n",
      "City:Toronto\n"
     ]
    }
   ],
   "source": [
    "def printDictionary(**args):\n",
    "    for key in args:\n",
    "        print(key + \":\" + args[key])\n",
    "\n",
    "printDictionary(Country = 'Canada', Province = 'Ontario', City = 'Toronto')"
   ]
  },
  {
   "cell_type": "code",
   "execution_count": 8,
   "id": "9bb7e657-44b3-4296-8a74-c83fba4046a1",
   "metadata": {},
   "outputs": [
    {
     "data": {
      "text/plain": [
       "['One', 'Two', 'Three', 'Four']"
      ]
     },
     "execution_count": 8,
     "metadata": {},
     "output_type": "execute_result"
    }
   ],
   "source": [
    "def addItems(list):\n",
    "    list.append(\"Three\")\n",
    "    list.append(\"Four\")\n",
    "\n",
    "myList = [\"One\", \"Two\"]\n",
    "\n",
    "addItems(myList)\n",
    "\n",
    "myList"
   ]
  },
  {
   "cell_type": "code",
   "execution_count": 12,
   "id": "8fde8469-044c-48b0-8523-ba9c8a665c88",
   "metadata": {},
   "outputs": [
    {
     "data": {
      "text/plain": [
       "32.8"
      ]
     },
     "execution_count": 12,
     "metadata": {},
     "output_type": "execute_result"
    }
   ],
   "source": [
    "def divide(a, b):\n",
    "    c = a/b\n",
    "    return(c)\n",
    "\n",
    "divide(164, 5)"
   ]
  },
  {
   "cell_type": "code",
   "execution_count": 14,
   "id": "c7aa8b5b-4683-45fe-8087-467e4ad4785a",
   "metadata": {},
   "outputs": [
    {
     "data": {
      "text/plain": [
       "18"
      ]
     },
     "execution_count": 14,
     "metadata": {},
     "output_type": "execute_result"
    }
   ],
   "source": [
    "def con(a, b):\n",
    "    return(a + b)\n",
    "\n",
    "con(12, 6)"
   ]
  },
  {
   "cell_type": "code",
   "execution_count": 16,
   "id": "eba08e00-0ba2-4ef9-9ab3-025a29a3b948",
   "metadata": {},
   "outputs": [
    {
     "data": {
      "text/plain": [
       "('Madagascar', 'Music', 'Marriage', 'Mathematics')"
      ]
     },
     "execution_count": 16,
     "metadata": {},
     "output_type": "execute_result"
    }
   ],
   "source": [
    "Tuple1 = (\"Madagascar\", \"Music\")\n",
    "Tuple2 = (\"Marriage\", \"Mathematics\")\n",
    "\n",
    "con(Tuple1, Tuple2)"
   ]
  },
  {
   "cell_type": "code",
   "execution_count": 38,
   "id": "e6655c5b-ddda-440f-a7f3-e7bbeb308d9d",
   "metadata": {},
   "outputs": [
    {
     "name": "stdout",
     "output_type": "stream",
     "text": [
      "The counts of little in the text is: 3\n"
     ]
    }
   ],
   "source": [
    "Lambstory = \"Mary had a little lamb Little lamb, little lamb Mary had a little lamb.Its fleece was white as snow And everywhere that Mary went Mary went, Mary went \\\n",
    "Everywhere that Mary went The lamb was sure to go\"\n",
    "\n",
    "def freq(word):\n",
    "    splitted = []\n",
    "    splitted = word.split()\n",
    "    if \"little\" in splitted:\n",
    "        Dict = splitted.count(\"little\")\n",
    "        return(Dict)\n",
    "        \n",
    "    else:\n",
    "        return 0.00\n",
    "        \n",
    "print(\"The counts of little in the text is:\", freq(Lambstory))"
   ]
  },
  {
   "cell_type": "code",
   "execution_count": null,
   "id": "e0d456b0-ad7b-48f2-b1e0-f574036e6a20",
   "metadata": {},
   "outputs": [],
   "source": []
  }
 ],
 "metadata": {
  "kernelspec": {
   "display_name": "Python [conda env:base] *",
   "language": "python",
   "name": "conda-base-py"
  },
  "language_info": {
   "codemirror_mode": {
    "name": "ipython",
    "version": 3
   },
   "file_extension": ".py",
   "mimetype": "text/x-python",
   "name": "python",
   "nbconvert_exporter": "python",
   "pygments_lexer": "ipython3",
   "version": "3.12.7"
  }
 },
 "nbformat": 4,
 "nbformat_minor": 5
}
